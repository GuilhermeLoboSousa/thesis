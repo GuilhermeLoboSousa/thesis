{
 "cells": [
  {
   "cell_type": "code",
   "execution_count": 0,
   "metadata": {
    "application/vnd.databricks.v1+cell": {
     "cellMetadata": {
      "byteLimit": 2048000,
      "rowLimit": 10000
     },
     "inputWidgets": {},
     "nuid": "1f35f812-327f-4cb2-97e9-1f0a77769c7c",
     "showTitle": false,
     "title": ""
    }
   },
   "outputs": [],
   "source": [
    "from omnia.generics import Pipeline, pd, np\n",
    "from omnia.generics.pipeline_optimization.pipeline_optimization import PipelineOptimization\n",
    "from sklearn.model_selection import train_test_split\n",
    "from omnia.proteins.standardization import ProteinStandardizer\n",
    "from omnia.proteins.encoding import Esm2Encoder\n",
    "from omnia.proteins.feature_extraction import ProteinDescriptor\n",
    "from omnia.generics import RNNModelClassifier, Pipeline, pd, TabularPredictor, MLPClassifier,GradientBoostingClassifier,RandomForestClassifier,CNN1DModelClassifier\n",
    "from omnia.generics.model.autogluon_models.random_forest import RandomForestModel\n",
    "from omnia.generics.model.autogluon_models.mlp import MultilayerPerceptronNN\n",
    "from omnia.generics.model.autogluon_models.cat_boost import CatBoostModel\n",
    "from omnia.generics.model.autogluon_models.knn import KNNModel\n",
    "from omnia.generics.model.autogluon_models.lgb import LGBModel\n",
    "from omnia.generics.model.autogluon_models.linear import LinearModel\n",
    "from omnia.generics.model.autogluon_models.nn import FastAINN\n",
    "from omnia.generics.model.autogluon_models.svm import SupportVectorMachineModel\n",
    "from omnia.generics.model.autogluon_models.xg_boost import XGBoostModel\n",
    "from omnia.generics.model.autogluon_models.xt import XTModel\n",
    "from omnia.generics.model.autogluon_models import VowpalWabbitModel\n"
   ]
  },
  {
   "cell_type": "code",
   "execution_count": 0,
   "metadata": {
    "application/vnd.databricks.v1+cell": {
     "cellMetadata": {
      "byteLimit": 2048000,
      "rowLimit": 10000
     },
     "inputWidgets": {},
     "nuid": "bab03568-a987-43a6-be27-b4a987e7b4f8",
     "showTitle": false,
     "title": ""
    }
   },
   "outputs": [],
   "source": [
    "df_antioxidant_case_study=pd.read_csv(\"df_antioxidant_case_study.csv\")\n",
    "x = df_antioxidant_case_study.drop(['label'], axis=1)\n",
    "y = df_antioxidant_case_study.loc[:, ['label']]\n",
    "x_train, x_test, y_train, y_test = train_test_split(x, y, test_size=0.15, random_state=42,stratify=y)\n",
    "x_train.to_csv('x_train_antioxidant.csv', index=False)\n",
    "x_test.to_csv('x_test_antioxidant.csv', index=False)\n",
    "y_train.to_csv('y_train_antioxidant.csv', index=False)\n",
    "y_test.to_csv('y_test_antioxidant.csv', index=False)\n",
    "\n",
    "\n",
    "x_train = pd.read_csv( 'x_train_antioxidant.csv')\n",
    "x_test = pd.read_csv('x_test_antioxidant.csv')\n",
    "y_train = pd.read_csv('y_train_antioxidant.csv')\n",
    "y_test = pd.read_csv('y_test_antioxidant.csv')\n",
    "\n",
    "x_train, x_val, y_train, y_val = train_test_split(x_train,y_train, test_size=0.15,stratify=y_train, random_state=42)\n",
    "\n"
   ]
  },
  {
   "cell_type": "code",
   "execution_count": 0,
   "metadata": {
    "application/vnd.databricks.v1+cell": {
     "cellMetadata": {
      "byteLimit": 2048000,
      "rowLimit": 10000
     },
     "inputWidgets": {},
     "nuid": "3b811381-9aa3-45f6-92b3-1e70b8d2267a",
     "showTitle": false,
     "title": ""
    }
   },
   "outputs": [],
   "source": [
    "standardizer = ProteinStandardizer()\n",
    "\n",
    "esm_encoder = Esm2Encoder(max_seq_len=600, pretrained_model=\"35M\", two_dimensional_embeddings=False, preset=\"features\")\n",
    "\n",
    "predictor = TabularPredictor(models=[RandomForestModel,\n",
    "                                     MultilayerPerceptronNN,\n",
    "                                     CatBoostModel,\n",
    "                                     KNNModel,\n",
    "                                     LGBModel,\n",
    "                                     LinearModel,\n",
    "                                     FastAINN,\n",
    "                                     VowpalWabbitModel,\n",
    "                                     XTModel,\n",
    "                                     XGBoostModel])\n",
    "\n",
    "pipeline = Pipeline(steps=[('standardizer', standardizer),\n",
    "                            ('protein_encoder', esm_encoder),\n",
    "                            ('prediction', predictor)],\n",
    "                    path=\"antioxidant_esm_pipeline\")\n",
    "\n",
    "pipeline.fit(x_train, y_train,x_val, y_val, problem_type='binary')\n",
    "\n",
    "pipeline.score(x_test, y_test, metrics=['accuracy','balanced_accuracy','roc_auc','f1','recall','matthews_corrcoef'])\n"
   ]
  },
  {
   "cell_type": "code",
   "execution_count": 0,
   "metadata": {
    "application/vnd.databricks.v1+cell": {
     "cellMetadata": {
      "byteLimit": 2048000,
      "rowLimit": 10000
     },
     "inputWidgets": {},
     "nuid": "36ea91e4-33ef-422c-aefe-8c8aaa446443",
     "showTitle": false,
     "title": ""
    }
   },
   "outputs": [],
   "source": [
    "standardizer = ProteinStandardizer()\n",
    "protein_descriptor = ProteinDescriptor()\n",
    "\n",
    "predictor =MLPClassifier()\n",
    "\n",
    "pipeline = Pipeline(steps=[('standardizer', standardizer),\n",
    "                            ('protein_encoder', protein_descriptor),\n",
    "                            ('prediction', predictor)],\n",
    "                    path=\"antioxidant_pd_pipeline\")\n",
    "\n",
    "pipeline.fit(x_train, y_train, x_val, y_val, problem_type='binary')\n",
    "\n",
    "pipeline.score(x_test, y_test, metrics=['accuracy','balanced_accuracy','roc_auc','f1','recall','matthews_corrcoef'])"
   ]
  },
  {
   "cell_type": "code",
   "execution_count": 0,
   "metadata": {
    "application/vnd.databricks.v1+cell": {
     "cellMetadata": {
      "byteLimit": 2048000,
      "rowLimit": 10000
     },
     "inputWidgets": {},
     "nuid": "f8e5ee53-4c15-4ae9-b8d1-9f6c24538da8",
     "showTitle": false,
     "title": ""
    }
   },
   "outputs": [],
   "source": [
    "standardizer = ProteinStandardizer()\n",
    "protein_descriptor = ProteinDescriptor()\n",
    "\n",
    "predictor =GradientBoostingClassifier()\n",
    "\n",
    "pipeline = Pipeline(steps=[('standardizer', standardizer),\n",
    "                            ('protein_encoder', protein_descriptor),\n",
    "                            ('prediction', predictor)],\n",
    "                    path=\"antioxidant_pd_pipeline\")\n",
    "\n",
    "pipeline.fit(x_train, y_train, x_val, y_val, problem_type='binary')\n",
    "\n",
    "pipeline.score(x_test, y_test, metrics=['accuracy','balanced_accuracy','roc_auc','f1','recall','matthews_corrcoef'])"
   ]
  },
  {
   "cell_type": "code",
   "execution_count": 0,
   "metadata": {
    "application/vnd.databricks.v1+cell": {
     "cellMetadata": {
      "byteLimit": 2048000,
      "rowLimit": 10000
     },
     "inputWidgets": {},
     "nuid": "ee5517a6-6035-4c67-a228-75ff8a4faeee",
     "showTitle": false,
     "title": ""
    }
   },
   "outputs": [],
   "source": [
    "import os\n",
    "import numpy as np\n",
    "from omnia.generics import Pipeline, pd, np\n",
    "from omnia.generics.pipeline_optimization.pipeline_optimization import PipelineOptimization\n",
    "from sklearn.model_selection import train_test_split\n",
    "from omnia.proteins.standardization import ProteinStandardizer\n",
    "from omnia.proteins.encoding import Esm2Encoder\n",
    "from omnia.proteins.feature_extraction import ProteinDescriptor\n",
    "from omnia.generics import RNNModelClassifier, Pipeline, pd, TabularPredictor, MLPClassifier,GradientBoostingClassifier,RandomForestClassifier,CNN1DModelClassifier\n",
    "\n",
    "x_train = pd.read_csv('x_train_deepalgpro.csv')\n",
    "y_train = pd.read_csv('y_train_deepalgpro.csv')\n",
    "x_test = pd.read_csv('x_test_deepalgpro.csv')\n",
    "y_test = pd.read_csv('y_test_deepalgpro.csv')\n",
    "\n",
    "x_train, x_val, y_train, y_val = train_test_split(x_train, y_train, test_size=0.15, random_state=42)\n",
    "\n",
    "metrics_df = pd.DataFrame(columns=['trial','accuracy','balanced_accuracy','roc_auc','f1','recall','mcc'])\n",
    "standardizer = ProteinStandardizer()\n",
    "protein_descriptor = ProteinDescriptor()\n",
    "\n",
    "predictor =RandomForestClassifier()\n",
    "\n",
    "pipeline = Pipeline(steps=[('standardizer', standardizer),\n",
    "                            ('protein_encoder', protein_descriptor),\n",
    "                            ('prediction', predictor)],\n",
    "                    path=\"antioxidant_pd_pipeline\")\n",
    "\n",
    "pipeline.fit(x_train, y_train, x_val, y_val, problem_type='binary')\n",
    "\n",
    "metrics = pipeline.score(x_test, y_test, metrics=['accuracy','roc_auc','f1','recall'])\n",
    "metrics_df.loc[0] = [\"trial\"] + [metrics[metric] for metric in metrics]\n",
    "metrics_df.to_csv('results.csv')"
   ]
  }
 ],
 "metadata": {
  "application/vnd.databricks.v1+notebook": {
   "dashboards": [],
   "environmentMetadata": {
    "base_environment": "",
    "client": "1"
   },
   "language": "python",
   "notebookMetadata": {
    "pythonIndentUnit": 4
   },
   "notebookName": "individual_omnia_pipeline_antioxidant",
   "widgets": {}
  },
  "kernelspec": {
   "display_name": "Python 3",
   "language": "python",
   "name": "python3"
  },
  "language_info": {
   "codemirror_mode": {
    "name": "ipython",
    "version": 2
   },
   "file_extension": ".py",
   "mimetype": "text/x-python",
   "name": "python",
   "nbconvert_exporter": "python",
   "pygments_lexer": "ipython2",
   "version": "2.7.6"
  }
 },
 "nbformat": 4,
 "nbformat_minor": 0
}
