{
 "cells": [
  {
   "cell_type": "markdown",
   "metadata": {
    "application/vnd.databricks.v1+cell": {
     "cellMetadata": {},
     "inputWidgets": {},
     "nuid": "78c72789-0a62-41b3-bdf8-6de57be047a5",
     "showTitle": false,
     "title": ""
    }
   },
   "source": [
    "This notebbok is responsible for downloading the selected datasets, allowing us to improve our knowledge of them in terms of the distribution of sequence sizes, as well as the presence of possible duplicate sequences. "
   ]
  },
  {
   "cell_type": "markdown",
   "metadata": {
    "application/vnd.databricks.v1+cell": {
     "cellMetadata": {},
     "inputWidgets": {},
     "nuid": "99446a5c-57dc-40ab-9646-5faadac5899c",
     "showTitle": false,
     "title": ""
    }
   },
   "source": [
    "# imports"
   ]
  },
  {
   "cell_type": "code",
   "execution_count": 0,
   "metadata": {
    "ExecuteTime": {
     "end_time": "2024-05-16T14:31:54.648011Z",
     "start_time": "2024-05-16T14:31:54.621253Z"
    },
    "application/vnd.databricks.v1+cell": {
     "cellMetadata": {
      "byteLimit": 2048000,
      "rowLimit": 10000
     },
     "inputWidgets": {},
     "nuid": "423b7dfc-a852-4253-a013-b13ab6f6f861",
     "showTitle": false,
     "title": ""
    }
   },
   "outputs": [],
   "source": [
    "import csv\n",
    "import numpy as np\n",
    "import pandas as pd\n",
    "from sklearn.metrics import roc_curve, confusion_matrix\n",
    "from sklearn.model_selection import train_test_split\n",
    "import matplotlib.pyplot as plt\n",
    "from scipy.stats import norm\n",
    "import seaborn as sns\n",
    "import requests"
   ]
  },
  {
   "cell_type": "markdown",
   "metadata": {
    "application/vnd.databricks.v1+cell": {
     "cellMetadata": {},
     "inputWidgets": {},
     "nuid": "bcf2f145-84a7-4d14-86d6-07d7c8bb0f3e",
     "showTitle": false,
     "title": ""
    }
   },
   "source": [
    "# Download the data"
   ]
  },
  {
   "cell_type": "code",
   "execution_count": 0,
   "metadata": {
    "application/vnd.databricks.v1+cell": {
     "cellMetadata": {
      "byteLimit": 2048000,
      "rowLimit": 10000
     },
     "inputWidgets": {},
     "nuid": "f06815bd-17b0-47cb-b844-60f442f38e8d",
     "showTitle": false,
     "title": ""
    }
   },
   "outputs": [],
   "source": [
    "# url = \"https://github.com/chun-he-316/DeepAlgPro/blob/main/data/all.test.fasta?raw=true\"\n",
    "# response = requests.get(url)\n",
    "\n",
    "# if response.status_code == 200:\n",
    "#     with open(\"test_deepalgpro.fasta\", \"wb\") as file:\n",
    "#         file.write(response.content)\n",
    "#     print(\"Download conclued with sucess.\")\n",
    "# else:\n",
    "#      print(f\"Error status: {response.status_code}\")"
   ]
  },
  {
   "cell_type": "code",
   "execution_count": 0,
   "metadata": {
    "application/vnd.databricks.v1+cell": {
     "cellMetadata": {
      "byteLimit": 2048000,
      "rowLimit": 10000
     },
     "inputWidgets": {},
     "nuid": "94a9b2bb-6573-4a7c-a621-23b664c74f99",
     "showTitle": false,
     "title": ""
    }
   },
   "outputs": [],
   "source": [
    "# url = \"https://github.com/chun-he-316/DeepAlgPro/blob/main/data/all.train.fasta?raw=true\"\n",
    "# response = requests.get(url)\n",
    "\n",
    "# if response.status_code == 200:\n",
    "#     with open(\"train_deepalgpro.fasta\", \"wb\") as file:\n",
    "#         file.write(response.content)\n",
    "#     print(\"Download conclued with sucess.\")\n",
    "# else:\n",
    "#      print(f\"Error status: {response.status_code}\")"
   ]
  },
  {
   "cell_type": "code",
   "execution_count": 0,
   "metadata": {
    "application/vnd.databricks.v1+cell": {
     "cellMetadata": {
      "byteLimit": 2048000,
      "rowLimit": 10000
     },
     "inputWidgets": {},
     "nuid": "f570496f-095e-4bc7-ae9f-401136ea1c60",
     "showTitle": false,
     "title": ""
    }
   },
   "outputs": [],
   "source": [
    "# sequences = []\n",
    "# labels = []\n",
    "\n",
    "# with open('test_deepalgpro.fasta', 'r') as file:\n",
    "#     lines = file.readlines()\n",
    "    \n",
    "#     for i in range(len(lines)):\n",
    "#         label_line = lines[i].strip()\n",
    "        \n",
    "#         if label_line.startswith(\">\"):\n",
    "#             if label_line.startswith(\">allergen\"):\n",
    "#                 label = 1  # Allergenic\n",
    "#             elif label_line.startswith(\">non-allergen\"):\n",
    "#                 label = 0  # Non-allergenic\n",
    "#             else:\n",
    "#                 continue  \n",
    "\n",
    "#             try:\n",
    "#                 sequence_line = lines[i + 1].strip()\n",
    "#                 sequences.append(sequence_line)\n",
    "#                 labels.append(label)\n",
    "#             except IndexError:\n",
    "#                 print(f\"Error to process lines {i} and {i+1}. Verify the file format.\")\n",
    "#                 continue\n",
    "\n",
    "# # Create the DataFrame\n",
    "# df_test = pd.DataFrame({'sequence': sequences, 'label': labels})"
   ]
  },
  {
   "cell_type": "code",
   "execution_count": 0,
   "metadata": {
    "application/vnd.databricks.v1+cell": {
     "cellMetadata": {
      "byteLimit": 2048000,
      "rowLimit": 10000
     },
     "inputWidgets": {},
     "nuid": "3041889f-60f5-49a5-bad8-5ee449218cd6",
     "showTitle": false,
     "title": ""
    }
   },
   "outputs": [],
   "source": [
    "# sequences = []\n",
    "# labels = []\n",
    "\n",
    "# with open('train_deepalgpro.fasta', 'r') as file:\n",
    "#     lines = file.readlines()\n",
    "    \n",
    "#     for i in range(len(lines)):\n",
    "#         label_line = lines[i].strip()\n",
    "        \n",
    "#         if label_line.startswith(\">\"):\n",
    "#             if label_line.startswith(\">allergen\"):\n",
    "#                 label = 1  # Allergenic\n",
    "#             elif label_line.startswith(\">non-allergen\"):\n",
    "#                 label = 0  # Non-allergenic\n",
    "#             else:\n",
    "#                 continue  \n",
    "\n",
    "#             try:\n",
    "#                 sequence_line = lines[i + 1].strip()\n",
    "#                 sequences.append(sequence_line)\n",
    "#                 labels.append(label)\n",
    "#             except IndexError:\n",
    "#                 print(f\"Error to process lines {i} and {i+1}. Verify the file format.\")\n",
    "#                 continue\n",
    "\n",
    "# # Create the DataFrame\n",
    "# df_train = pd.DataFrame({'sequence': sequences, 'label': labels})"
   ]
  },
  {
   "cell_type": "markdown",
   "metadata": {
    "application/vnd.databricks.v1+cell": {
     "cellMetadata": {},
     "inputWidgets": {},
     "nuid": "6e3328db-44b5-4656-8ae7-0e04d9dda3c4",
     "showTitle": false,
     "title": ""
    }
   },
   "source": [
    "#conect data"
   ]
  },
  {
   "cell_type": "code",
   "execution_count": 0,
   "metadata": {
    "application/vnd.databricks.v1+cell": {
     "cellMetadata": {
      "byteLimit": 2048000,
      "rowLimit": 10000
     },
     "inputWidgets": {},
     "nuid": "69a96c3e-f2cc-4075-962a-51d172a949d1",
     "showTitle": false,
     "title": ""
    }
   },
   "outputs": [],
   "source": [
    "# df_allergenic = pd.concat([df_train, df_test], ignore_index=True)"
   ]
  },
  {
   "cell_type": "markdown",
   "metadata": {
    "application/vnd.databricks.v1+cell": {
     "cellMetadata": {},
     "inputWidgets": {},
     "nuid": "c45f4edb-0658-4ec8-894e-c462cc5a5453",
     "showTitle": false,
     "title": ""
    }
   },
   "source": [
    "# Save data"
   ]
  },
  {
   "cell_type": "code",
   "execution_count": 0,
   "metadata": {
    "application/vnd.databricks.v1+cell": {
     "cellMetadata": {
      "byteLimit": 2048000,
      "rowLimit": 10000
     },
     "inputWidgets": {},
     "nuid": "92357ee4-7a10-4c88-ac5c-1945d726f704",
     "showTitle": false,
     "title": ""
    }
   },
   "outputs": [],
   "source": [
    "# x_test_deepalgpro=df_test.drop(['label'], axis=1)\n",
    "# y_test_deepalgpro=df_test.loc[:,[\"label\"]]\n",
    "\n",
    "# x_test_deepalgpro.to_csv(\"x_test_deepalgpro.csv\",index=False)\n",
    "# y_test_deepalgpro.to_csv(\"y_test_deepalgpro.csv\",index=False)\n",
    "\n",
    "# x_train_deepalgpro=df_train.drop(['label'], axis=1)\n",
    "# y_train_deepalgpro=df_train.loc[:,[\"label\"]]\n",
    "# x_train_deepalgpro.to_csv(\"x_train_deepalgpro.csv\",index=False)\n",
    "# y_train_deepalgpro.to_csv(\"y_train_deepalgpro.csv\",index=False)"
   ]
  },
  {
   "cell_type": "markdown",
   "metadata": {
    "application/vnd.databricks.v1+cell": {
     "cellMetadata": {},
     "inputWidgets": {},
     "nuid": "4da4ff28-1c98-4a42-95f9-0aca356264e7",
     "showTitle": false,
     "title": ""
    }
   },
   "source": [
    "# Load data"
   ]
  },
  {
   "cell_type": "markdown",
   "metadata": {
    "application/vnd.databricks.v1+cell": {
     "cellMetadata": {},
     "inputWidgets": {},
     "nuid": "91adbfc1-fc9a-4d38-9dc3-e6d4b77163da",
     "showTitle": false,
     "title": ""
    }
   },
   "source": [
    "__You can start from here__"
   ]
  },
  {
   "cell_type": "code",
   "execution_count": 0,
   "metadata": {
    "application/vnd.databricks.v1+cell": {
     "cellMetadata": {
      "byteLimit": 2048000,
      "rowLimit": 10000
     },
     "inputWidgets": {},
     "nuid": "6c39a388-1fff-4b34-b0ca-20d1a8c09679",
     "showTitle": false,
     "title": ""
    }
   },
   "outputs": [],
   "source": [
    "x_train_deepalgpro_esm = pd.read_csv( 'x_train_deepalgpro.csv')\n",
    "x_test_deepalgpro_esm = pd.read_csv('x_test_deepalgpro.csv')\n",
    "y_train_deepalgpro_esm = pd.read_csv('y_train_deepalgpro.csv')\n",
    "y_test_deepalgpro_esm = pd.read_csv('y_test_deepalgpro.csv')"
   ]
  },
  {
   "cell_type": "markdown",
   "metadata": {
    "application/vnd.databricks.v1+cell": {
     "cellMetadata": {},
     "inputWidgets": {},
     "nuid": "aa37f3c3-bd80-43b3-bac8-893dc203757c",
     "showTitle": false,
     "title": ""
    }
   },
   "source": [
    "# Shape"
   ]
  },
  {
   "cell_type": "code",
   "execution_count": 0,
   "metadata": {
    "ExecuteTime": {
     "end_time": "2024-05-16T14:03:33.577919Z",
     "start_time": "2024-05-16T14:03:33.566770Z"
    },
    "application/vnd.databricks.v1+cell": {
     "cellMetadata": {
      "byteLimit": 2048000,
      "rowLimit": 10000
     },
     "inputWidgets": {},
     "nuid": "f75fc6b4-eee3-4db4-91fa-b01a129b4ada",
     "showTitle": false,
     "title": ""
    }
   },
   "outputs": [],
   "source": [
    "#different shapes\n",
    "print('train_x_esm', x_train_deepalgpro_esm.shape)\n",
    "print('test_x_esm', x_test_deepalgpro_esm.shape)\n",
    "print('train_y_esm', y_train_deepalgpro_esm.shape)\n",
    "print('test_y_esm', y_test_deepalgpro_esm.shape)\n"
   ]
  },
  {
   "cell_type": "markdown",
   "metadata": {
    "application/vnd.databricks.v1+cell": {
     "cellMetadata": {},
     "inputWidgets": {},
     "nuid": "627e8aa9-998b-41e2-ab7f-2e95fdc5b9ba",
     "showTitle": false,
     "title": ""
    }
   },
   "source": [
    "# Histogram"
   ]
  },
  {
   "cell_type": "code",
   "execution_count": 0,
   "metadata": {
    "application/vnd.databricks.v1+cell": {
     "cellMetadata": {
      "byteLimit": 2048000,
      "rowLimit": 10000
     },
     "inputWidgets": {},
     "nuid": "cde26f57-2b12-4e3f-bfe5-4a178a26d9ca",
     "showTitle": false,
     "title": ""
    }
   },
   "outputs": [],
   "source": [
    "\n",
    "dataset_alllergenic = pd.concat([x_train_deepalgpro_esm, x_test_deepalgpro_esm])\n",
    "\n",
    "dataset_alllergenic['sequence_length'] = dataset_alllergenic['sequence'].apply(len)\n",
    "\n",
    "bins = range(0, dataset_alllergenic['sequence_length'].max() + 100, 100)  # Intervals of 100\n",
    "\n",
    "plt.figure(figsize=(10,6))\n",
    "plt.hist(dataset_alllergenic['sequence_length'], bins=bins, edgecolor='black')\n",
    "plt.title('Overview of sequence length distribution (Interval Size: 100 amino-acids)',fontsize=16)\n",
    "plt.xlabel('Length of sequences',fontsize=16)\n",
    "plt.ylabel('Number of sequences',fontsize=16)\n",
    "plt.savefig('allergenic_histogram.png', dpi=300)\n",
    "\n",
    "\n",
    "plt.show()\n"
   ]
  },
  {
   "cell_type": "markdown",
   "metadata": {
    "application/vnd.databricks.v1+cell": {
     "cellMetadata": {},
     "inputWidgets": {},
     "nuid": "514517bc-42f5-47a0-a8b5-290884f32b94",
     "showTitle": false,
     "title": ""
    }
   },
   "source": [
    "# Data distribution"
   ]
  },
  {
   "cell_type": "code",
   "execution_count": 0,
   "metadata": {
    "application/vnd.databricks.v1+cell": {
     "cellMetadata": {
      "byteLimit": 2048000,
      "rowLimit": 10000
     },
     "inputWidgets": {},
     "nuid": "a906d860-b929-4329-8d0b-03b19ac81a4c",
     "showTitle": false,
     "title": ""
    }
   },
   "outputs": [],
   "source": [
    "bins = range(0, dataset_alllergenic['sequence_length'].max() + 50, 50)\n",
    "\n",
    "# Criar o gráfico com histograma e curva KDE\n",
    "plt.figure(figsize=(10,6))\n",
    "\n",
    "# Adicionar histograma com intervalo de 50\n",
    "sns.histplot(dataset_alllergenic['sequence_length'], bins=bins, kde=False, color='skyblue', edgecolor='black', stat='density')\n",
    "\n",
    "# Adicionar a curva KDE com ajuste de largura da banda\n",
    "sns.kdeplot(dataset_alllergenic['sequence_length'], color='red', linewidth=1, bw_adjust=0.2)\n",
    "\n",
    "# Adicionar título e rótulos\n",
    "plt.title('Distribution of Sequence Lengths with KDE Curve')\n",
    "plt.xlabel('Length of Sequences')\n",
    "plt.ylabel('Density')\n",
    "\n",
    "# Exibir o gráfico\n",
    "plt.show()\n"
   ]
  },
  {
   "cell_type": "markdown",
   "metadata": {
    "application/vnd.databricks.v1+cell": {
     "cellMetadata": {},
     "inputWidgets": {},
     "nuid": "f6ed51ef-e9a5-4d64-8914-65b951e2d560",
     "showTitle": false,
     "title": ""
    }
   },
   "source": [
    "# Verify the presence of duplicate sequences"
   ]
  },
  {
   "cell_type": "code",
   "execution_count": 0,
   "metadata": {
    "application/vnd.databricks.v1+cell": {
     "cellMetadata": {
      "byteLimit": 2048000,
      "rowLimit": 10000
     },
     "inputWidgets": {},
     "nuid": "cf197c08-cf28-459c-8dfc-7cf2fa80f0de",
     "showTitle": false,
     "title": ""
    }
   },
   "outputs": [],
   "source": [
    "duplicates = dataset_alllergenic['sequence'].duplicated()\n",
    "\n",
    "num_duplicates = duplicates.sum()\n",
    "print(f\"Number of duplicate sequences: {num_duplicates}\")\n",
    "\n",
    "if num_duplicates > 0:\n",
    "    duplicate_sequences = dataset_alllergenic[dataset_alllergenic['sequence'].duplicated(keep=False)]\n",
    "    print(\"Duplicate sequences:\")\n",
    "    print(duplicate_sequences)\n",
    "else:\n",
    "    print(\"No duplicate sequences found.\")"
   ]
  },
  {
   "cell_type": "markdown",
   "metadata": {
    "application/vnd.databricks.v1+cell": {
     "cellMetadata": {},
     "inputWidgets": {},
     "nuid": "5d6e7c13-6ece-4b2f-a096-20ed3d636f7f",
     "showTitle": false,
     "title": ""
    }
   },
   "source": [
    "# Label values distribution"
   ]
  },
  {
   "cell_type": "code",
   "execution_count": 0,
   "metadata": {
    "application/vnd.databricks.v1+cell": {
     "cellMetadata": {
      "byteLimit": 2048000,
      "rowLimit": 10000
     },
     "inputWidgets": {},
     "nuid": "0f602e0a-f717-465b-a728-fc79244ca39d",
     "showTitle": false,
     "title": ""
    }
   },
   "outputs": [],
   "source": [
    "y_allergenic = pd.concat([y_train_deepalgpro_esm, y_test_deepalgpro_esm])\n",
    "\n",
    "# Verificar a distribuição dos valores na coluna 'label'\n",
    "label_counts = y_allergenic['label'].value_counts()\n",
    "\n",
    "# Criar o gráfico circular\n",
    "plt.figure(figsize=(8, 8))\n",
    "wedges, texts, autotexts = plt.pie(label_counts, labels=label_counts.index, autopct='%1.1f%%', colors=plt.cm.Paired(range(len(label_counts))))\n",
    "\n",
    "# Add the legend\n",
    "plt.legend(wedges, label_counts.index, title=\"Labels\", loc=\"center left\", bbox_to_anchor=(1, 0, 0.5, 1),fontsize=14)\n",
    "\n",
    "# Set the title in English\n",
    "plt.title('Class Distribution (Label 0 vs Label 1)',fontsize=16)\n",
    "plt.savefig('allergenic_labels.png', dpi=300)\n",
    "\n",
    "plt.show()"
   ]
  },
  {
   "cell_type": "code",
   "execution_count": 0,
   "metadata": {
    "application/vnd.databricks.v1+cell": {
     "cellMetadata": {
      "byteLimit": 2048000,
      "rowLimit": 10000
     },
     "inputWidgets": {},
     "nuid": "2ea7c4c9-bb36-4a1b-a994-0f72fff05a80",
     "showTitle": false,
     "title": ""
    }
   },
   "outputs": [],
   "source": [
    "df_allergenic['Length'] = df_allergenic['sequence'].apply(len)\n",
    "\n",
    "# Split the DataFrame by label\n",
    "label_0_lengths = df_allergenic[df_allergenic['label'] == 0]['Length']\n",
    "label_1_lengths = df_allergenic[df_allergenic['label'] == 1]['Length']\n",
    "\n",
    "# Create histograms\n",
    "plt.hist(label_0_lengths, alpha=0.5, label='Label 0', bins=10)\n",
    "plt.hist(label_1_lengths, alpha=0.5, label='Label 1', bins=10)\n",
    "\n",
    "plt.xlabel('Sequence length', fontsize=15)  # Change 14 to the desired font size\n",
    "plt.ylabel('Frequency', fontsize=15)  \n",
    "plt.title('Length distribution of protein sequences by label',fontsize=15)\n",
    "plt.legend(fontsize=15)\n",
    "plt.savefig('allergenic_histogram_labels.png', dpi=300)\n",
    "\n",
    "plt.show()\n"
   ]
  },
  {
   "cell_type": "code",
   "execution_count": 0,
   "metadata": {
    "application/vnd.databricks.v1+cell": {
     "cellMetadata": {
      "byteLimit": 2048000,
      "rowLimit": 10000
     },
     "inputWidgets": {},
     "nuid": "8a3da6cc-6b48-4aa3-a873-a1253304aec0",
     "showTitle": false,
     "title": ""
    }
   },
   "outputs": [],
   "source": [
    "import matplotlib.pyplot as plt\n",
    "import numpy as np\n",
    "from matplotlib import cm\n",
    "\n",
    "# Exemplo de modelos\n",
    "models = ['DeepAlgPro', 'AlgPred 2.0', 'AllerCatPro 2.0', 'AllerTOP V2', 'ProAllD', 'Propythia', 'OmniA']\n",
    "\n",
    "# Exemplo de métricas (substitua pelos seus valores reais)\n",
    "metrics = ['Accuracy', 'Precision', 'Recall', 'F1 Score']\n",
    "values = {\n",
    "    'Accuracy': [91.62, 90.28, 93.80, 89.79, 85.99, 93.90, 94.1],\n",
    "    'Precision': [92.76, 85.14, 93.31, 91.24, 86.76, 93.94, 94.00],\n",
    "    'Recall': [90.28, 97.61, 94.36, 88.03, 84.93, 93.94, 94.2],\n",
    "    'F1 Score': [91.50, 90.90, 93.80, 89.60, 85.8, 93.94, 94.10],\n",
    "}\n",
    "\n",
    "# Usar uma paleta de cores mais agradável (tab10)\n",
    "cmap = cm.get_cmap('Set1', len(models))\n",
    "colors = cmap.colors\n",
    "\n",
    "# Tamanho da figura\n",
    "plt.figure(figsize=(12, 6))\n",
    "\n",
    "# Número de barras por grupo\n",
    "bar_width = 0.1  # Diminuir largura para dar mais espaço\n",
    "\n",
    "# Espaço adicional entre grupos de métricas\n",
    "spacing = 0.15\n",
    "\n",
    "# Posições das barras no eixo x, considerando o espaçamento entre métricas\n",
    "index = np.arange(len(metrics)) * (len(models) * bar_width + spacing)\n",
    "\n",
    "# Criar barras para cada modelo\n",
    "for i, model in enumerate(models):\n",
    "    plt.bar(index + i * bar_width, [values[metric][i] for metric in metrics], \n",
    "            bar_width, label=model, color=colors[i])\n",
    "\n",
    "# Configurações do gráfico\n",
    "plt.xlabel('Metrics',fontsize=14)\n",
    "plt.ylabel('Scores (%)',fontsize=14)\n",
    "plt.title('Performance of different approaches on allergenic dataset', fontsize=14)\n",
    "\n",
    "# Definir os ticks do eixo y de 5 em 5\n",
    "plt.yticks(np.arange(0, 101, 5),fontsize=14)\n",
    "\n",
    "# Configuração do eixo x\n",
    "plt.xticks(index + bar_width * 3, metrics,fontsize=14)\n",
    "\n",
    "# Exibir legenda fora do gráfico\n",
    "plt.legend(title='Models', bbox_to_anchor=(1.05, 1), loc='upper left',fontsize=13)\n",
    "\n",
    "# Ajustar layout e mostrar gráfico\n",
    "plt.tight_layout()\n",
    "plt.savefig('allergenic_global.png', dpi=300)\n",
    "\n",
    "plt.show()\n"
   ]
  }
 ],
 "metadata": {
  "application/vnd.databricks.v1+notebook": {
   "dashboards": [],
   "environmentMetadata": {
    "base_environment": "",
    "client": "1"
   },
   "language": "python",
   "notebookMetadata": {
    "mostRecentlyExecutedCommandWithImplicitDF": {
     "commandId": 3613740483109790,
     "dataframes": [
      "_sqldf"
     ]
    },
    "pythonIndentUnit": 4
   },
   "notebookName": "Allergenic_dataset_preprocess",
   "widgets": {}
  },
  "kernelspec": {
   "display_name": "Python 3 (ipykernel)",
   "language": "python",
   "name": "python3"
  },
  "language_info": {
   "codemirror_mode": {
    "name": "ipython",
    "version": 3
   },
   "file_extension": ".py",
   "mimetype": "text/x-python",
   "name": "python",
   "nbconvert_exporter": "python",
   "pygments_lexer": "ipython3",
   "version": "3.9.19"
  }
 },
 "nbformat": 4,
 "nbformat_minor": 0
}
